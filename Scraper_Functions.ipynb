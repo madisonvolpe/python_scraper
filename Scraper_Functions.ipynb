{
 "cells": [
  {
   "cell_type": "code",
   "execution_count": 2,
   "metadata": {},
   "outputs": [],
   "source": [
    "from bs4 import BeautifulSoup\n",
    "import re\n",
    "import pandas as pd\n",
    "import requests\n",
    "import html5lib"
   ]
  },
  {
   "cell_type": "code",
   "execution_count": 3,
   "metadata": {},
   "outputs": [],
   "source": [
    "# function to extract name, age, race, sex, admit date, release date, and time in jail from every row in table \n",
    "# saved into a dictionary \n",
    "\n",
    "def get_table(tbrow): \n",
    "    \n",
    "    name = tbrow.find(\"td\", {'id': re.compile('gvInmates_tccell')}).text\n",
    "    name = re.sub('[\\n\\t]', \"\", name)\n",
    "    \n",
    "    age = tbrow.findAll('td', {'class': re.compile('dxgv*')})[1].text\n",
    "    race = tbrow.findAll('td', {'class': re.compile('dxgv*')})[2].text\n",
    "    sex = tbrow.findAll('td', {'class': re.compile('dxgv*')})[3].text\n",
    "    admit = tbrow.findAll('td', {'class': re.compile('dxgv*')})[4].text\n",
    "    release = tbrow.findAll('td', {'class': re.compile('dxgv*')})[5].text\n",
    "    tij =  tbrow.findAll('td', {'class': re.compile('dxgv*')})[6].text\n",
    "    \n",
    "    inmate_row = {'name': name,\n",
    "                    'age': age,\n",
    "                    'race': race,\n",
    "                    'sex': sex,\n",
    "                    'admit': admit,\n",
    "                    'release': release,\n",
    "                    'tij': tij}\n",
    "    return inmate_row"
   ]
  },
  {
   "cell_type": "code",
   "execution_count": null,
   "metadata": {},
   "outputs": [],
   "source": []
  }
 ],
 "metadata": {
  "kernelspec": {
   "display_name": "Python 3",
   "language": "python",
   "name": "python3"
  },
  "language_info": {
   "codemirror_mode": {
    "name": "ipython",
    "version": 3
   },
   "file_extension": ".py",
   "mimetype": "text/x-python",
   "name": "python",
   "nbconvert_exporter": "python",
   "pygments_lexer": "ipython3",
   "version": "3.6.8"
  }
 },
 "nbformat": 4,
 "nbformat_minor": 2
}
