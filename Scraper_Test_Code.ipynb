{
  "nbformat": 4,
  "nbformat_minor": 0,
  "metadata": {
    "colab": {
      "name": "Scraper_Test_Code.ipynb",
      "version": "0.3.2",
      "provenance": []
    },
    "language_info": {
      "codemirror_mode": {
        "name": "ipython",
        "version": 3
      },
      "file_extension": ".py",
      "mimetype": "text/x-python",
      "name": "python",
      "nbconvert_exporter": "python",
      "pygments_lexer": "ipython3",
      "version": "3.6.8"
    },
    "kernelspec": {
      "display_name": "Python 3",
      "language": "python",
      "name": "python3"
    }
  },
  "cells": [
    {
      "cell_type": "code",
      "metadata": {
        "id": "cqJY3bKPu_oQ",
        "colab_type": "code",
        "colab": {}
      },
      "source": [
        "from selenium import webdriver\n",
        "from selenium.webdriver.common.keys import Keys\n",
        "from bs4 import BeautifulSoup\n",
        "import re\n",
        "import pandas as pd\n",
        "import requests\n",
        "import html5lib"
      ],
      "execution_count": 0,
      "outputs": []
    },
    {
      "cell_type": "code",
      "metadata": {
        "id": "6qpRSybUu_oV",
        "colab_type": "code",
        "colab": {}
      },
      "source": [
        "html = requests.get('https://jail.desotosheriff.org/DCN/inmates-released').text\n",
        "soup = BeautifulSoup(html, 'html5lib')"
      ],
      "execution_count": 0,
      "outputs": []
    },
    {
      "cell_type": "code",
      "metadata": {
        "id": "8AEyC5y3u_o5",
        "colab_type": "code",
        "colab": {}
      },
      "source": [
        "table_rows = []\n",
        "for tabrow in soup.findAll('tr', {'id': re.compile('gvInmates_DXDataRow*')}):\n",
        "    table_rows.append(get_table(tabrow))"
      ],
      "execution_count": 0,
      "outputs": []
    },
    {
      "cell_type": "code",
      "metadata": {
        "id": "TZHemqmFu_pA",
        "colab_type": "code",
        "colab": {}
      },
      "source": [
        "url = \"https://jail.desotosheriff.org/DCN/inmates-released\"\n",
        "\n",
        "# create a new Firefox session\n",
        "driver = webdriver.Firefox()\n",
        "driver.implicitly_wait(time_to_wait=100)\n",
        "driver.get(url)"
      ],
      "execution_count": 0,
      "outputs": []
    },
    {
      "cell_type": "code",
      "metadata": {
        "id": "xdsmAnD2u_pD",
        "colab_type": "code",
        "colab": {}
      },
      "source": [
        "soups = []\n",
        "for i in range(172):\n",
        "    soups.append(BeautifulSoup(driver.page_source, 'html5lib'))\n",
        "    python_button = driver.find_element_by_xpath('//*[@id=\"gvInmates_DXPagerBottom\"]/a[@class=\"dxp-button dxp-bi\"]/img[@class=\"dxWeb_pNext_Metropolis\"]')\n",
        "    driver.execute_script(\"arguments[0].click();\", python_button)\n",
        "    "
      ],
      "execution_count": 0,
      "outputs": []
    }
  ]
}