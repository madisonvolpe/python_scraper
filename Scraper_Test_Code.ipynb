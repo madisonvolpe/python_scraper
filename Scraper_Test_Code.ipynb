{
 "cells": [
  {
   "cell_type": "markdown",
   "metadata": {},
   "source": [
    "## Explanation of Project"
   ]
  },
  {
   "cell_type": "markdown",
   "metadata": {},
   "source": [
    "* This project is to highlight my coding abilities in python. It involves web scraping a local county jail's released inmates.\n",
    "\n",
    "* The website contains a table with each inmate's name,  age, race, sex, admit date, release date, and time in jail (number of days).\n",
    "\n",
    "* Due to JavaScript on the website, there was a next button to see each page of the table. Therefore, selenium was needed to simulate actually clicking the next button.\n",
    "\n",
    "* The htmls from each page were collected and then through parsing the html, messy data was transformed into a pandas dataframe.\n",
    "\n",
    "* I concluded this exercise showing summary statistics and some plots with matplotlib. "
   ]
  },
  {
   "cell_type": "markdown",
   "metadata": {},
   "source": [
    "## Imports"
   ]
  },
  {
   "cell_type": "code",
   "execution_count": 72,
   "metadata": {
    "colab": {},
    "colab_type": "code",
    "id": "cqJY3bKPu_oQ"
   },
   "outputs": [],
   "source": [
    "from selenium import webdriver\n",
    "from selenium.webdriver.common.keys import Keys\n",
    "from bs4 import BeautifulSoup\n",
    "import re\n",
    "import pandas as pd\n",
    "import requests\n",
    "import html5lib\n",
    "import sys\n",
    "from selenium.common.exceptions import NoSuchElementException\n",
    "from selenium.common.exceptions import StaleElementReferenceException\n",
    "from selenium.webdriver.firefox.firefox_binary import FirefoxBinary\n",
    "from selenium.webdriver.common.desired_capabilities import DesiredCapabilities\n",
    "from selenium.webdriver.support.ui import WebDriverWait\n",
    "from selenium.webdriver.support import expected_conditions as EC\n",
    "from selenium.webdriver.common.by import By\n",
    "from selenium.webdriver.common.action_chains import ActionChains\n",
    "import time\n",
    "import numpy as np"
   ]
  },
  {
   "cell_type": "markdown",
   "metadata": {},
   "source": [
    "## Created Functions"
   ]
  },
  {
   "cell_type": "code",
   "execution_count": 73,
   "metadata": {},
   "outputs": [],
   "source": [
    "# this function is used to scrape the htmls from each page on the website and \n",
    "# extract necessary information into a dictionary \n",
    "\n",
    "def get_table(tbrow): \n",
    "    \n",
    "    name = tbrow.find(\"td\", {'id': re.compile('gvInmates_tccell')}).text\n",
    "    name = re.sub('[\\n\\t]', \"\", name)\n",
    "    \n",
    "    age = tbrow.findAll('td', {'class': re.compile('dxgv*')})[1].text\n",
    "    race = tbrow.findAll('td', {'class': re.compile('dxgv*')})[2].text\n",
    "    sex = tbrow.findAll('td', {'class': re.compile('dxgv*')})[3].text\n",
    "    admit = tbrow.findAll('td', {'class': re.compile('dxgv*')})[4].text\n",
    "    release = tbrow.findAll('td', {'class': re.compile('dxgv*')})[5].text\n",
    "    tij =  tbrow.findAll('td', {'class': re.compile('dxgv*')})[6].text\n",
    "    \n",
    "    inmate_row = {'name': name,\n",
    "                    'age': age,\n",
    "                    'race': race,\n",
    "                    'sex': sex,\n",
    "                    'admit': admit,\n",
    "                    'release': release,\n",
    "                    'tij': tij}\n",
    "    return inmate_row"
   ]
  },
  {
   "cell_type": "markdown",
   "metadata": {},
   "source": [
    "## Initialize Selenium"
   ]
  },
  {
   "cell_type": "code",
   "execution_count": 74,
   "metadata": {
    "colab": {},
    "colab_type": "code",
    "id": "TZHemqmFu_pA"
   },
   "outputs": [],
   "source": [
    "url = \"https://jail.desotosheriff.org/DCN/inmates-released\"\n",
    "driver = webdriver.Firefox()\n",
    "driver.get(url)"
   ]
  },
  {
   "cell_type": "markdown",
   "metadata": {},
   "source": [
    "## Loop through Each Page and Extract Html "
   ]
  },
  {
   "cell_type": "code",
   "execution_count": 75,
   "metadata": {
    "colab": {},
    "colab_type": "code",
    "id": "xdsmAnD2u_pD"
   },
   "outputs": [
    {
     "name": "stdout",
     "output_type": "stream",
     "text": [
      "Last Page\n"
     ]
    },
    {
     "ename": "SystemExit",
     "evalue": "1",
     "output_type": "error",
     "traceback": [
      "An exception has occurred, use %tb to see the full traceback.\n",
      "\u001b[0;31mSystemExit\u001b[0m\u001b[0;31m:\u001b[0m 1\n"
     ]
    },
    {
     "name": "stderr",
     "output_type": "stream",
     "text": [
      "/Users/madisonvolpe/anaconda3/lib/python3.6/site-packages/IPython/core/interactiveshell.py:2971: UserWarning: To exit: use 'exit', 'quit', or Ctrl-D.\n",
      "  warn(\"To exit: use 'exit', 'quit', or Ctrl-D.\", stacklevel=1)\n"
     ]
    }
   ],
   "source": [
    "# Ths loops through each page on the website and extracts each page's html source\n",
    "# Once it hits the last page an exception is captured. \n",
    "soups = []\n",
    "for i in range(174):\n",
    "    try:\n",
    "        html = driver.page_source\n",
    "        bsObj = BeautifulSoup(html, \"html5lib\")\n",
    "        soups.append(bsObj)\n",
    "        wait = WebDriverWait(driver, 45)\n",
    "        el = wait.until(EC.element_to_be_clickable((By.XPATH,'//*[@id=\"gvInmates_DXPagerBottom\"]/a[@class=\"dxp-button dxp-bi\"]/img[@alt=\"Next\"]')))    \n",
    "        driver.execute_script(\"arguments[0].click();\", el)  \n",
    "        time.sleep(2)\n",
    "    except: \n",
    "        print(\"Last Page\") \n",
    "        sys.exit(1)\n"
   ]
  },
  {
   "cell_type": "markdown",
   "metadata": {},
   "source": [
    "## Extract necessary information from each page's html"
   ]
  },
  {
   "cell_type": "code",
   "execution_count": 76,
   "metadata": {},
   "outputs": [],
   "source": [
    "# for each page in a list of htmls and each table row on that page \n",
    "# the get table function is applied to extract data from each row \n",
    "# in other words, each person's information is extracted and put into a list \n",
    "table_rows = []\n",
    "for pg in soups:\n",
    "    for tabrow in pg.findAll('tr', {'id': re.compile('gvInmates_DXDataRow*')}):\n",
    "        table_rows.append(get_table(tabrow))"
   ]
  },
  {
   "cell_type": "code",
   "execution_count": 77,
   "metadata": {},
   "outputs": [
    {
     "name": "stdout",
     "output_type": "stream",
     "text": [
      "17210\n",
      "{'name': 'Abalos, Eusebio Cardenas', 'age': '43', 'race': 'W', 'sex': 'M', 'admit': '8/31/2015', 'release': '8/31/2015', 'tij': '0'}\n"
     ]
    }
   ],
   "source": [
    "# Each table row is saved as a dictionary, thus we are left with a list of dictionaries\n",
    "# because as of 5/31/2019, there were 17,210 released inmates \n",
    "# there should be 17,210 observations in the list \n",
    "print(len(table_rows))\n",
    "# This is an example of one observation - a dictionary for each inmate\n",
    "print(table_rows[0])"
   ]
  },
  {
   "cell_type": "markdown",
   "metadata": {},
   "source": [
    "## Convert List of Dictionaries to Pandas Dataframe"
   ]
  },
  {
   "cell_type": "code",
   "execution_count": 78,
   "metadata": {},
   "outputs": [
    {
     "data": {
      "text/html": [
       "<div>\n",
       "<style scoped>\n",
       "    .dataframe tbody tr th:only-of-type {\n",
       "        vertical-align: middle;\n",
       "    }\n",
       "\n",
       "    .dataframe tbody tr th {\n",
       "        vertical-align: top;\n",
       "    }\n",
       "\n",
       "    .dataframe thead th {\n",
       "        text-align: right;\n",
       "    }\n",
       "</style>\n",
       "<table border=\"1\" class=\"dataframe\">\n",
       "  <thead>\n",
       "    <tr style=\"text-align: right;\">\n",
       "      <th></th>\n",
       "      <th>name</th>\n",
       "      <th>age</th>\n",
       "      <th>race</th>\n",
       "      <th>sex</th>\n",
       "      <th>admit</th>\n",
       "      <th>release</th>\n",
       "      <th>tij</th>\n",
       "    </tr>\n",
       "  </thead>\n",
       "  <tbody>\n",
       "    <tr>\n",
       "      <th>0</th>\n",
       "      <td>Abalos, Eusebio Cardenas</td>\n",
       "      <td>43</td>\n",
       "      <td>W</td>\n",
       "      <td>M</td>\n",
       "      <td>8/31/2015</td>\n",
       "      <td>8/31/2015</td>\n",
       "      <td>0</td>\n",
       "    </tr>\n",
       "    <tr>\n",
       "      <th>1</th>\n",
       "      <td>Abila Rivera, Maria del Carmen</td>\n",
       "      <td>39</td>\n",
       "      <td>H</td>\n",
       "      <td>F</td>\n",
       "      <td>7/22/2017</td>\n",
       "      <td>7/22/2017</td>\n",
       "      <td>0</td>\n",
       "    </tr>\n",
       "    <tr>\n",
       "      <th>2</th>\n",
       "      <td>Aburayyan, Bader Khaleel</td>\n",
       "      <td>35</td>\n",
       "      <td>O</td>\n",
       "      <td>M</td>\n",
       "      <td>9/17/2014</td>\n",
       "      <td>9/18/2014</td>\n",
       "      <td>1</td>\n",
       "    </tr>\n",
       "    <tr>\n",
       "      <th>3</th>\n",
       "      <td>Accardi, Charles Bradley</td>\n",
       "      <td>26</td>\n",
       "      <td>W</td>\n",
       "      <td>M</td>\n",
       "      <td>3/2/2012</td>\n",
       "      <td>3/2/2012</td>\n",
       "      <td>0</td>\n",
       "    </tr>\n",
       "    <tr>\n",
       "      <th>4</th>\n",
       "      <td>Accardi, Charles Bradley</td>\n",
       "      <td>26</td>\n",
       "      <td>W</td>\n",
       "      <td>M</td>\n",
       "      <td>7/24/2012</td>\n",
       "      <td>8/6/2012</td>\n",
       "      <td>13</td>\n",
       "    </tr>\n",
       "  </tbody>\n",
       "</table>\n",
       "</div>"
      ],
      "text/plain": [
       "                             name age race sex      admit    release tij\n",
       "0        Abalos, Eusebio Cardenas  43    W   M  8/31/2015  8/31/2015   0\n",
       "1  Abila Rivera, Maria del Carmen  39    H   F  7/22/2017  7/22/2017   0\n",
       "2        Aburayyan, Bader Khaleel  35    O   M  9/17/2014  9/18/2014   1\n",
       "3        Accardi, Charles Bradley  26    W   M   3/2/2012   3/2/2012   0\n",
       "4        Accardi, Charles Bradley  26    W   M  7/24/2012   8/6/2012  13"
      ]
     },
     "execution_count": 78,
     "metadata": {},
     "output_type": "execute_result"
    }
   ],
   "source": [
    "# convert list of dictionaries to df \n",
    "table = pd.DataFrame(table_rows)\n",
    "\n",
    "# rearrange columns\n",
    "table = table[['name', 'age', 'race','sex','admit', 'release', 'tij']]\n",
    "\n",
    "# show head of table\n",
    "table.head()\n",
    "\n",
    "# note - anonymize column (name), but for purposes will not "
   ]
  },
  {
   "cell_type": "code",
   "execution_count": 79,
   "metadata": {},
   "outputs": [],
   "source": [
    "# check the data types\n",
    "#table.dtypes\n",
    "\n",
    "# convert to different data types \n",
    "table = table.astype({\"name\": str, \"age\": int, \"race\": 'category', \"sex\": 'category'})\n",
    "\n",
    "# for the time in jail column we must convert N/A to NAN\n",
    "table.loc[table['tij'] == 'N/A', 'tij'] = np.nan\n",
    "\n",
    "# remove nan values \n",
    "table.dropna(how='any', inplace=True)  \n",
    "\n",
    "# convert tij to int \n",
    "table.tij.astype(int, inplace=True)\n",
    "\n",
    "# check dtypes\n",
    "table.dtypes"
   ]
  },
  {
   "cell_type": "markdown",
   "metadata": {},
   "source": [
    "## Summary Statistics "
   ]
  },
  {
   "cell_type": "code",
   "execution_count": null,
   "metadata": {},
   "outputs": [],
   "source": []
  }
 ],
 "metadata": {
  "colab": {
   "name": "Scraper_Test_Code.ipynb",
   "provenance": [],
   "version": "0.3.2"
  },
  "kernelspec": {
   "display_name": "Python 3",
   "language": "python",
   "name": "python3"
  },
  "language_info": {
   "codemirror_mode": {
    "name": "ipython",
    "version": 3
   },
   "file_extension": ".py",
   "mimetype": "text/x-python",
   "name": "python",
   "nbconvert_exporter": "python",
   "pygments_lexer": "ipython3",
   "version": "3.6.8"
  }
 },
 "nbformat": 4,
 "nbformat_minor": 1
}
